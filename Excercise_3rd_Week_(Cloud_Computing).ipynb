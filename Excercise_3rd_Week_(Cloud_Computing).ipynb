{
  "nbformat": 4,
  "nbformat_minor": 0,
  "metadata": {
    "colab": {
      "provenance": [],
      "authorship_tag": "ABX9TyOiYz4d19cqIRDL1+0Nc8r7",
      "include_colab_link": true
    },
    "kernelspec": {
      "name": "python3",
      "display_name": "Python 3"
    },
    "language_info": {
      "name": "python"
    }
  },
  "cells": [
    {
      "cell_type": "markdown",
      "metadata": {
        "id": "view-in-github",
        "colab_type": "text"
      },
      "source": [
        "<a href=\"https://colab.research.google.com/github/k3itch/30_Days_of_JS/blob/main/Excercise_3rd_Week_(Cloud_Computing).ipynb\" target=\"_parent\"><img src=\"https://colab.research.google.com/assets/colab-badge.svg\" alt=\"Open In Colab\"/></a>"
      ]
    },
    {
      "cell_type": "markdown",
      "source": [
        "Pandas Assignment\n",
        "\n",
        "---\n",
        "\n",
        "\n",
        "Submitted by: Ashish Khurana\n",
        "\n",
        "---\n",
        "\n",
        "\n",
        "ROll No: 102065030"
      ],
      "metadata": {
        "id": "BjznJ_ulOUkm"
      }
    },
    {
      "cell_type": "code",
      "execution_count": 2,
      "metadata": {
        "id": "LXNbVmAWLsTQ"
      },
      "outputs": [],
      "source": [
        "#1. Load the dataset \"daily_weather.csv\" into a dataframe\n",
        "import pandas as pd\n",
        "df = pd.read_csv(\"daily_weather.csv\")"
      ]
    },
    {
      "cell_type": "code",
      "source": [
        "#2. Print the datatypes of all columns of the dataframe\n",
        "print(df.dtypes)"
      ],
      "metadata": {
        "colab": {
          "base_uri": "https://localhost:8080/"
        },
        "id": "NUqRXdurLwY9",
        "outputId": "70243683-be30-41da-d54a-1b6ce2eb2e97"
      },
      "execution_count": 5,
      "outputs": [
        {
          "output_type": "stream",
          "name": "stdout",
          "text": [
            "number                      int64\n",
            "air_pressure_9am          float64\n",
            "air_temp_9am              float64\n",
            "avg_wind_direction_9am    float64\n",
            "avg_wind_speed_9am        float64\n",
            "max_wind_direction_9am    float64\n",
            "max_wind_speed_9am        float64\n",
            "rain_accumulation_9am     float64\n",
            "rain_duration_9am         float64\n",
            "relative_humidity_9am     float64\n",
            "relative_humidity_3pm     float64\n",
            "dtype: object\n"
          ]
        }
      ]
    },
    {
      "cell_type": "code",
      "source": [
        "#3. Print the statistics of the dataframe\n",
        "print(df.describe())"
      ],
      "metadata": {
        "colab": {
          "base_uri": "https://localhost:8080/"
        },
        "id": "rXLiwABTMAAa",
        "outputId": "94b82720-eab9-4bdf-ff9c-9db0426f6e69"
      },
      "execution_count": 6,
      "outputs": [
        {
          "output_type": "stream",
          "name": "stdout",
          "text": [
            "            number  air_pressure_9am  air_temp_9am  avg_wind_direction_9am  \\\n",
            "count  1095.000000       1092.000000   1090.000000             1091.000000   \n",
            "mean    547.000000        918.882551     64.933001              142.235511   \n",
            "std     316.243577          3.184161     11.175514               69.137859   \n",
            "min       0.000000        907.990000     36.752000               15.500000   \n",
            "25%     273.500000        916.550000     57.281000               65.972506   \n",
            "50%     547.000000        918.921045     65.715479              166.000000   \n",
            "75%     820.500000        921.160073     73.450974              191.000000   \n",
            "max    1094.000000        929.320000     98.906000              343.400000   \n",
            "\n",
            "       avg_wind_speed_9am  max_wind_direction_9am  max_wind_speed_9am  \\\n",
            "count         1092.000000             1092.000000         1091.000000   \n",
            "mean             5.508284              148.953518            7.019514   \n",
            "std              4.552813               67.238013            5.598209   \n",
            "min              0.693451               28.900000            1.185578   \n",
            "25%              2.248768               76.553003            3.067477   \n",
            "50%              3.871333              177.300000            4.943637   \n",
            "75%              7.337163              201.233153            8.947760   \n",
            "max             23.554978              312.200000           29.840780   \n",
            "\n",
            "       rain_accumulation_9am  rain_duration_9am  relative_humidity_9am  \\\n",
            "count            1089.000000        1092.000000            1095.000000   \n",
            "mean                0.203079         294.108052              34.241402   \n",
            "std                 1.593952        1598.078779              25.472067   \n",
            "min                 0.000000           0.000000               6.090000   \n",
            "25%                 0.000000           0.000000              15.092243   \n",
            "50%                 0.000000           0.000000              23.179259   \n",
            "75%                 0.000000           0.000000              45.400000   \n",
            "max                24.020000       17704.000000              92.620000   \n",
            "\n",
            "       relative_humidity_3pm  \n",
            "count            1095.000000  \n",
            "mean               35.344727  \n",
            "std                22.524079  \n",
            "min                 5.300000  \n",
            "25%                17.395000  \n",
            "50%                24.380000  \n",
            "75%                52.060000  \n",
            "max                92.250000  \n"
          ]
        }
      ]
    },
    {
      "cell_type": "code",
      "source": [
        "#4. Print the first three rows of the dataframe\n",
        "print(df.head(3))"
      ],
      "metadata": {
        "colab": {
          "base_uri": "https://localhost:8080/"
        },
        "id": "_fnlp4ioMFp1",
        "outputId": "43184567-7389-46b7-de48-270e6709a676"
      },
      "execution_count": 7,
      "outputs": [
        {
          "output_type": "stream",
          "name": "stdout",
          "text": [
            "   number  air_pressure_9am  air_temp_9am  avg_wind_direction_9am  \\\n",
            "0       0        918.060000     74.822000              271.100000   \n",
            "1       1        917.347688     71.403843              101.935179   \n",
            "2       2        923.040000     60.638000               51.000000   \n",
            "\n",
            "   avg_wind_speed_9am  max_wind_direction_9am  max_wind_speed_9am  \\\n",
            "0            2.080354              295.400000            2.863283   \n",
            "1            2.443009              140.471548            3.533324   \n",
            "2           17.067852               63.700000           22.100967   \n",
            "\n",
            "   rain_accumulation_9am  rain_duration_9am  relative_humidity_9am  \\\n",
            "0                    0.0                0.0              42.420000   \n",
            "1                    0.0                0.0              24.328697   \n",
            "2                    0.0               20.0               8.900000   \n",
            "\n",
            "   relative_humidity_3pm  \n",
            "0              36.160000  \n",
            "1              19.426597  \n",
            "2              14.460000  \n"
          ]
        }
      ]
    },
    {
      "cell_type": "code",
      "source": [
        "#5. Print the last three rows of the dataframe\n",
        "print(df.tail(3))"
      ],
      "metadata": {
        "colab": {
          "base_uri": "https://localhost:8080/"
        },
        "id": "Z16rAW4lMQDt",
        "outputId": "987987e5-4be4-477f-efe5-cd2fe46efbbe"
      },
      "execution_count": 8,
      "outputs": [
        {
          "output_type": "stream",
          "name": "stdout",
          "text": [
            "      number  air_pressure_9am  air_temp_9am  avg_wind_direction_9am  \\\n",
            "1092    1092            916.60        71.096                   189.3   \n",
            "1093    1093            912.60        58.406                   172.7   \n",
            "1094    1094            921.53        77.702                    97.1   \n",
            "\n",
            "      avg_wind_speed_9am  max_wind_direction_9am  max_wind_speed_9am  \\\n",
            "1092            3.064608                   200.8            3.892276   \n",
            "1093            3.825167                   189.1            4.764682   \n",
            "1094            3.265932                   125.9            4.451511   \n",
            "\n",
            "      rain_accumulation_9am  rain_duration_9am  relative_humidity_9am  \\\n",
            "1092                    0.0                0.0                  45.59   \n",
            "1093                    0.0                0.0                  64.84   \n",
            "1094                    0.0                0.0                  14.56   \n",
            "\n",
            "      relative_humidity_3pm  \n",
            "1092                  52.31  \n",
            "1093                  58.28  \n",
            "1094                  15.10  \n"
          ]
        }
      ]
    },
    {
      "cell_type": "code",
      "source": [
        "#6. Print any 6 randomly picked rows\n",
        "print(df.sample(6))"
      ],
      "metadata": {
        "colab": {
          "base_uri": "https://localhost:8080/"
        },
        "id": "8z0yD08EMizS",
        "outputId": "29c70ca2-f9d7-43d1-d03f-8ad61377b579"
      },
      "execution_count": 9,
      "outputs": [
        {
          "output_type": "stream",
          "name": "stdout",
          "text": [
            "      number  air_pressure_9am  air_temp_9am  avg_wind_direction_9am  \\\n",
            "798      798        918.130000     49.316000              308.100000   \n",
            "1073    1073        917.920000     84.650000               30.000000   \n",
            "735      735        913.490000     65.390000              172.300000   \n",
            "671      671        921.370000     60.980000               42.500000   \n",
            "133      133        919.610000     70.250000              119.400000   \n",
            "393      393        921.643675     68.894385              194.797576   \n",
            "\n",
            "      avg_wind_speed_9am  max_wind_direction_9am  max_wind_speed_9am  \\\n",
            "798            10.200446              184.400000           13.086099   \n",
            "1073            4.831790               40.100000            5.838413   \n",
            "735             2.639589              187.500000            3.444888   \n",
            "671            21.541732               53.600000           25.635332   \n",
            "133             3.400149              162.600000            5.077854   \n",
            "393             3.373302              216.379358            4.520630   \n",
            "\n",
            "      rain_accumulation_9am  rain_duration_9am  relative_humidity_9am  \\\n",
            "798                    0.04              200.0              88.480000   \n",
            "1073                   0.00                0.0              16.220000   \n",
            "735                    0.00                0.0              51.060000   \n",
            "671                    0.01               50.0              11.980000   \n",
            "133                    0.00                0.0              19.640000   \n",
            "393                    0.00                0.0              17.985613   \n",
            "\n",
            "      relative_humidity_3pm  \n",
            "798               81.400000  \n",
            "1073              27.450000  \n",
            "735               56.050000  \n",
            "671               10.230000  \n",
            "133               16.030000  \n",
            "393               17.524581  \n"
          ]
        }
      ]
    },
    {
      "cell_type": "code",
      "source": [
        "#7. Print all column names\n",
        "print(df.columns)"
      ],
      "metadata": {
        "colab": {
          "base_uri": "https://localhost:8080/"
        },
        "id": "QznRH01eMpxy",
        "outputId": "a9faaeb5-6924-43ac-d133-3bc62883f472"
      },
      "execution_count": 10,
      "outputs": [
        {
          "output_type": "stream",
          "name": "stdout",
          "text": [
            "Index(['number', 'air_pressure_9am', 'air_temp_9am', 'avg_wind_direction_9am',\n",
            "       'avg_wind_speed_9am', 'max_wind_direction_9am', 'max_wind_speed_9am',\n",
            "       'rain_accumulation_9am', 'rain_duration_9am', 'relative_humidity_9am',\n",
            "       'relative_humidity_3pm'],\n",
            "      dtype='object')\n"
          ]
        }
      ]
    },
    {
      "cell_type": "code",
      "source": [
        "#8. Are there any missing values in the dataframe? (Use the Info function)\n",
        "df.info()"
      ],
      "metadata": {
        "colab": {
          "base_uri": "https://localhost:8080/"
        },
        "id": "TPj9WdOpMwzc",
        "outputId": "4cac691d-ba85-432d-e70f-8884801f0a79"
      },
      "execution_count": 11,
      "outputs": [
        {
          "output_type": "stream",
          "name": "stdout",
          "text": [
            "<class 'pandas.core.frame.DataFrame'>\n",
            "RangeIndex: 1095 entries, 0 to 1094\n",
            "Data columns (total 11 columns):\n",
            " #   Column                  Non-Null Count  Dtype  \n",
            "---  ------                  --------------  -----  \n",
            " 0   number                  1095 non-null   int64  \n",
            " 1   air_pressure_9am        1092 non-null   float64\n",
            " 2   air_temp_9am            1090 non-null   float64\n",
            " 3   avg_wind_direction_9am  1091 non-null   float64\n",
            " 4   avg_wind_speed_9am      1092 non-null   float64\n",
            " 5   max_wind_direction_9am  1092 non-null   float64\n",
            " 6   max_wind_speed_9am      1091 non-null   float64\n",
            " 7   rain_accumulation_9am   1089 non-null   float64\n",
            " 8   rain_duration_9am       1092 non-null   float64\n",
            " 9   relative_humidity_9am   1095 non-null   float64\n",
            " 10  relative_humidity_3pm   1095 non-null   float64\n",
            "dtypes: float64(10), int64(1)\n",
            "memory usage: 94.2 KB\n"
          ]
        }
      ]
    },
    {
      "cell_type": "code",
      "source": [
        "#9. Sort the data by the index in ascending order\n",
        "df = df.sort_index(axis=0,ascending = True)"
      ],
      "metadata": {
        "id": "cCQgl7doM3iU"
      },
      "execution_count": 16,
      "outputs": []
    },
    {
      "cell_type": "code",
      "source": [
        "#10. Sort the dataframe according to the column \"air_temp_9am\" in descending order\n",
        "df = df.sort_values(by = 'air_temp_9am', ascending = False)"
      ],
      "metadata": {
        "id": "sq2Kof91NMSy"
      },
      "execution_count": 13,
      "outputs": []
    },
    {
      "cell_type": "code",
      "source": [
        "#11.  Print the rows where \"air_pressure_9am\">918\n",
        "df[df[\"air_pressure_9am\"] > 918]"
      ],
      "metadata": {
        "colab": {
          "base_uri": "https://localhost:8080/",
          "height": 487
        },
        "id": "214YuhnjNgIW",
        "outputId": "7eddcb95-8862-445b-ab52-80ba74092be2"
      },
      "execution_count": 14,
      "outputs": [
        {
          "output_type": "execute_result",
          "data": {
            "text/plain": [
              "      number  air_pressure_9am  air_temp_9am  avg_wind_direction_9am  \\\n",
              "30        30        919.350000        91.112               96.400000   \n",
              "872      872        918.200000        89.204              225.500000   \n",
              "739      739        919.100000        87.602              275.700000   \n",
              "907      907        918.600000        87.440               40.900000   \n",
              "311      311        919.490000        85.550               95.800000   \n",
              "...      ...               ...           ...                     ...   \n",
              "77        77        921.610000        38.138               46.600000   \n",
              "636      636        919.480000        36.752              311.400000   \n",
              "840      840        918.043767           NaN              181.774042   \n",
              "861      861        919.065408           NaN              172.303728   \n",
              "1031    1031        922.669195           NaN               47.946284   \n",
              "\n",
              "      avg_wind_speed_9am  max_wind_direction_9am  max_wind_speed_9am  \\\n",
              "30              2.527742               96.300000            3.377779   \n",
              "872             1.185578              265.000000            1.767183   \n",
              "739             2.102724              133.600000            3.265932   \n",
              "907             3.400149               53.500000            4.406772   \n",
              "311             3.176455               51.200000            4.048861   \n",
              "...                  ...                     ...                 ...   \n",
              "77              4.518619               59.600000            5.525242   \n",
              "636             3.511996              133.900000            5.234440   \n",
              "840             0.964376              185.618601            1.570007   \n",
              "861             2.639600              193.058141            3.326949   \n",
              "1031            7.969686               65.770066           10.262337   \n",
              "\n",
              "      rain_accumulation_9am  rain_duration_9am  relative_humidity_9am  \\\n",
              "30                     0.00                0.0              25.620000   \n",
              "872                    0.00                0.0              26.570000   \n",
              "739                    0.00                0.0              14.570000   \n",
              "907                    0.00                0.0              12.110000   \n",
              "311                    0.00                0.0              16.080000   \n",
              "...                     ...                ...                    ...   \n",
              "77                     0.00                0.0              29.800000   \n",
              "636                    0.27              310.0              41.760000   \n",
              "840                    0.00                0.0              11.911222   \n",
              "861                    0.00                0.0              12.497839   \n",
              "1031                   0.00                0.0              18.920805   \n",
              "\n",
              "      relative_humidity_3pm  \n",
              "30                35.690000  \n",
              "872               29.360000  \n",
              "739               39.360000  \n",
              "907               12.520000  \n",
              "311               21.390000  \n",
              "...                     ...  \n",
              "77                16.400000  \n",
              "636               50.700000  \n",
              "840               18.154358  \n",
              "861               13.438518  \n",
              "1031              19.641841  \n",
              "\n",
              "[659 rows x 11 columns]"
            ],
            "text/html": [
              "\n",
              "  <div id=\"df-15ff538f-fd3b-4c3d-8b77-4044cd424a4f\">\n",
              "    <div class=\"colab-df-container\">\n",
              "      <div>\n",
              "<style scoped>\n",
              "    .dataframe tbody tr th:only-of-type {\n",
              "        vertical-align: middle;\n",
              "    }\n",
              "\n",
              "    .dataframe tbody tr th {\n",
              "        vertical-align: top;\n",
              "    }\n",
              "\n",
              "    .dataframe thead th {\n",
              "        text-align: right;\n",
              "    }\n",
              "</style>\n",
              "<table border=\"1\" class=\"dataframe\">\n",
              "  <thead>\n",
              "    <tr style=\"text-align: right;\">\n",
              "      <th></th>\n",
              "      <th>number</th>\n",
              "      <th>air_pressure_9am</th>\n",
              "      <th>air_temp_9am</th>\n",
              "      <th>avg_wind_direction_9am</th>\n",
              "      <th>avg_wind_speed_9am</th>\n",
              "      <th>max_wind_direction_9am</th>\n",
              "      <th>max_wind_speed_9am</th>\n",
              "      <th>rain_accumulation_9am</th>\n",
              "      <th>rain_duration_9am</th>\n",
              "      <th>relative_humidity_9am</th>\n",
              "      <th>relative_humidity_3pm</th>\n",
              "    </tr>\n",
              "  </thead>\n",
              "  <tbody>\n",
              "    <tr>\n",
              "      <th>30</th>\n",
              "      <td>30</td>\n",
              "      <td>919.350000</td>\n",
              "      <td>91.112</td>\n",
              "      <td>96.400000</td>\n",
              "      <td>2.527742</td>\n",
              "      <td>96.300000</td>\n",
              "      <td>3.377779</td>\n",
              "      <td>0.00</td>\n",
              "      <td>0.0</td>\n",
              "      <td>25.620000</td>\n",
              "      <td>35.690000</td>\n",
              "    </tr>\n",
              "    <tr>\n",
              "      <th>872</th>\n",
              "      <td>872</td>\n",
              "      <td>918.200000</td>\n",
              "      <td>89.204</td>\n",
              "      <td>225.500000</td>\n",
              "      <td>1.185578</td>\n",
              "      <td>265.000000</td>\n",
              "      <td>1.767183</td>\n",
              "      <td>0.00</td>\n",
              "      <td>0.0</td>\n",
              "      <td>26.570000</td>\n",
              "      <td>29.360000</td>\n",
              "    </tr>\n",
              "    <tr>\n",
              "      <th>739</th>\n",
              "      <td>739</td>\n",
              "      <td>919.100000</td>\n",
              "      <td>87.602</td>\n",
              "      <td>275.700000</td>\n",
              "      <td>2.102724</td>\n",
              "      <td>133.600000</td>\n",
              "      <td>3.265932</td>\n",
              "      <td>0.00</td>\n",
              "      <td>0.0</td>\n",
              "      <td>14.570000</td>\n",
              "      <td>39.360000</td>\n",
              "    </tr>\n",
              "    <tr>\n",
              "      <th>907</th>\n",
              "      <td>907</td>\n",
              "      <td>918.600000</td>\n",
              "      <td>87.440</td>\n",
              "      <td>40.900000</td>\n",
              "      <td>3.400149</td>\n",
              "      <td>53.500000</td>\n",
              "      <td>4.406772</td>\n",
              "      <td>0.00</td>\n",
              "      <td>0.0</td>\n",
              "      <td>12.110000</td>\n",
              "      <td>12.520000</td>\n",
              "    </tr>\n",
              "    <tr>\n",
              "      <th>311</th>\n",
              "      <td>311</td>\n",
              "      <td>919.490000</td>\n",
              "      <td>85.550</td>\n",
              "      <td>95.800000</td>\n",
              "      <td>3.176455</td>\n",
              "      <td>51.200000</td>\n",
              "      <td>4.048861</td>\n",
              "      <td>0.00</td>\n",
              "      <td>0.0</td>\n",
              "      <td>16.080000</td>\n",
              "      <td>21.390000</td>\n",
              "    </tr>\n",
              "    <tr>\n",
              "      <th>...</th>\n",
              "      <td>...</td>\n",
              "      <td>...</td>\n",
              "      <td>...</td>\n",
              "      <td>...</td>\n",
              "      <td>...</td>\n",
              "      <td>...</td>\n",
              "      <td>...</td>\n",
              "      <td>...</td>\n",
              "      <td>...</td>\n",
              "      <td>...</td>\n",
              "      <td>...</td>\n",
              "    </tr>\n",
              "    <tr>\n",
              "      <th>77</th>\n",
              "      <td>77</td>\n",
              "      <td>921.610000</td>\n",
              "      <td>38.138</td>\n",
              "      <td>46.600000</td>\n",
              "      <td>4.518619</td>\n",
              "      <td>59.600000</td>\n",
              "      <td>5.525242</td>\n",
              "      <td>0.00</td>\n",
              "      <td>0.0</td>\n",
              "      <td>29.800000</td>\n",
              "      <td>16.400000</td>\n",
              "    </tr>\n",
              "    <tr>\n",
              "      <th>636</th>\n",
              "      <td>636</td>\n",
              "      <td>919.480000</td>\n",
              "      <td>36.752</td>\n",
              "      <td>311.400000</td>\n",
              "      <td>3.511996</td>\n",
              "      <td>133.900000</td>\n",
              "      <td>5.234440</td>\n",
              "      <td>0.27</td>\n",
              "      <td>310.0</td>\n",
              "      <td>41.760000</td>\n",
              "      <td>50.700000</td>\n",
              "    </tr>\n",
              "    <tr>\n",
              "      <th>840</th>\n",
              "      <td>840</td>\n",
              "      <td>918.043767</td>\n",
              "      <td>NaN</td>\n",
              "      <td>181.774042</td>\n",
              "      <td>0.964376</td>\n",
              "      <td>185.618601</td>\n",
              "      <td>1.570007</td>\n",
              "      <td>0.00</td>\n",
              "      <td>0.0</td>\n",
              "      <td>11.911222</td>\n",
              "      <td>18.154358</td>\n",
              "    </tr>\n",
              "    <tr>\n",
              "      <th>861</th>\n",
              "      <td>861</td>\n",
              "      <td>919.065408</td>\n",
              "      <td>NaN</td>\n",
              "      <td>172.303728</td>\n",
              "      <td>2.639600</td>\n",
              "      <td>193.058141</td>\n",
              "      <td>3.326949</td>\n",
              "      <td>0.00</td>\n",
              "      <td>0.0</td>\n",
              "      <td>12.497839</td>\n",
              "      <td>13.438518</td>\n",
              "    </tr>\n",
              "    <tr>\n",
              "      <th>1031</th>\n",
              "      <td>1031</td>\n",
              "      <td>922.669195</td>\n",
              "      <td>NaN</td>\n",
              "      <td>47.946284</td>\n",
              "      <td>7.969686</td>\n",
              "      <td>65.770066</td>\n",
              "      <td>10.262337</td>\n",
              "      <td>0.00</td>\n",
              "      <td>0.0</td>\n",
              "      <td>18.920805</td>\n",
              "      <td>19.641841</td>\n",
              "    </tr>\n",
              "  </tbody>\n",
              "</table>\n",
              "<p>659 rows × 11 columns</p>\n",
              "</div>\n",
              "      <button class=\"colab-df-convert\" onclick=\"convertToInteractive('df-15ff538f-fd3b-4c3d-8b77-4044cd424a4f')\"\n",
              "              title=\"Convert this dataframe to an interactive table.\"\n",
              "              style=\"display:none;\">\n",
              "        \n",
              "  <svg xmlns=\"http://www.w3.org/2000/svg\" height=\"24px\"viewBox=\"0 0 24 24\"\n",
              "       width=\"24px\">\n",
              "    <path d=\"M0 0h24v24H0V0z\" fill=\"none\"/>\n",
              "    <path d=\"M18.56 5.44l.94 2.06.94-2.06 2.06-.94-2.06-.94-.94-2.06-.94 2.06-2.06.94zm-11 1L8.5 8.5l.94-2.06 2.06-.94-2.06-.94L8.5 2.5l-.94 2.06-2.06.94zm10 10l.94 2.06.94-2.06 2.06-.94-2.06-.94-.94-2.06-.94 2.06-2.06.94z\"/><path d=\"M17.41 7.96l-1.37-1.37c-.4-.4-.92-.59-1.43-.59-.52 0-1.04.2-1.43.59L10.3 9.45l-7.72 7.72c-.78.78-.78 2.05 0 2.83L4 21.41c.39.39.9.59 1.41.59.51 0 1.02-.2 1.41-.59l7.78-7.78 2.81-2.81c.8-.78.8-2.07 0-2.86zM5.41 20L4 18.59l7.72-7.72 1.47 1.35L5.41 20z\"/>\n",
              "  </svg>\n",
              "      </button>\n",
              "      \n",
              "  <style>\n",
              "    .colab-df-container {\n",
              "      display:flex;\n",
              "      flex-wrap:wrap;\n",
              "      gap: 12px;\n",
              "    }\n",
              "\n",
              "    .colab-df-convert {\n",
              "      background-color: #E8F0FE;\n",
              "      border: none;\n",
              "      border-radius: 50%;\n",
              "      cursor: pointer;\n",
              "      display: none;\n",
              "      fill: #1967D2;\n",
              "      height: 32px;\n",
              "      padding: 0 0 0 0;\n",
              "      width: 32px;\n",
              "    }\n",
              "\n",
              "    .colab-df-convert:hover {\n",
              "      background-color: #E2EBFA;\n",
              "      box-shadow: 0px 1px 2px rgba(60, 64, 67, 0.3), 0px 1px 3px 1px rgba(60, 64, 67, 0.15);\n",
              "      fill: #174EA6;\n",
              "    }\n",
              "\n",
              "    [theme=dark] .colab-df-convert {\n",
              "      background-color: #3B4455;\n",
              "      fill: #D2E3FC;\n",
              "    }\n",
              "\n",
              "    [theme=dark] .colab-df-convert:hover {\n",
              "      background-color: #434B5C;\n",
              "      box-shadow: 0px 1px 3px 1px rgba(0, 0, 0, 0.15);\n",
              "      filter: drop-shadow(0px 1px 2px rgba(0, 0, 0, 0.3));\n",
              "      fill: #FFFFFF;\n",
              "    }\n",
              "  </style>\n",
              "\n",
              "      <script>\n",
              "        const buttonEl =\n",
              "          document.querySelector('#df-15ff538f-fd3b-4c3d-8b77-4044cd424a4f button.colab-df-convert');\n",
              "        buttonEl.style.display =\n",
              "          google.colab.kernel.accessAllowed ? 'block' : 'none';\n",
              "\n",
              "        async function convertToInteractive(key) {\n",
              "          const element = document.querySelector('#df-15ff538f-fd3b-4c3d-8b77-4044cd424a4f');\n",
              "          const dataTable =\n",
              "            await google.colab.kernel.invokeFunction('convertToInteractive',\n",
              "                                                     [key], {});\n",
              "          if (!dataTable) return;\n",
              "\n",
              "          const docLinkHtml = 'Like what you see? Visit the ' +\n",
              "            '<a target=\"_blank\" href=https://colab.research.google.com/notebooks/data_table.ipynb>data table notebook</a>'\n",
              "            + ' to learn more about interactive tables.';\n",
              "          element.innerHTML = '';\n",
              "          dataTable['output_type'] = 'display_data';\n",
              "          await google.colab.output.renderOutput(dataTable, element);\n",
              "          const docLink = document.createElement('div');\n",
              "          docLink.innerHTML = docLinkHtml;\n",
              "          element.appendChild(docLink);\n",
              "        }\n",
              "      </script>\n",
              "    </div>\n",
              "  </div>\n",
              "  "
            ]
          },
          "metadata": {},
          "execution_count": 14
        }
      ]
    },
    {
      "cell_type": "code",
      "source": [],
      "metadata": {
        "id": "HyrWh9aINm-M"
      },
      "execution_count": null,
      "outputs": []
    }
  ]
}